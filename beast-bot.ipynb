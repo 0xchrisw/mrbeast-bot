{
 "cells": [
  {
   "cell_type": "code",
   "execution_count": null,
   "metadata": {},
   "outputs": [],
   "source": []
  },
  {
   "cell_type": "code",
   "execution_count": null,
   "metadata": {},
   "outputs": [],
   "source": [
    "# Prerequisites\n",
    "!mkdir -p ./drivers\n",
    "\n",
    "!wget https://github.com/mozilla/geckodriver/releases/download/v0.31.0/geckodriver-v0.31.0-linux64.tar.gz -O ./drivers/geckodriver.tar.gz\n",
    "\n",
    "!tar -xzf ./drivers/geckodriver.tar.gz -C ./drivers\n",
    "!rm ./drivers/geckodriver.tar.gz\n",
    "\n",
    "!cp ./drivers/geckodriver /usr/local/bin/geckodriver\n",
    "\n",
    "!pip3 install selenium\n",
    "\n",
    "# Clean up cell output\n",
    "from IPython.display import clear_output\n",
    "clear_output(wait=False)"
   ]
  },
  {
   "cell_type": "markdown",
   "metadata": {},
   "source": [
    "# Step 1 - Setup\n",
    "Ensure the `geckodriver` is installed in the user's PATH, and that you are logged into youtube in your default Firefox profile."
   ]
  },
  {
   "cell_type": "code",
   "execution_count": 177,
   "metadata": {},
   "outputs": [
    {
     "name": "stdout",
     "output_type": "stream",
     "text": [
      "Using profile: /home/chris/.mozilla/firefox/bsvv9cqj.default-release\n"
     ]
    }
   ],
   "source": [
    "import warnings\n",
    "warnings.filterwarnings(\"ignore\", category=DeprecationWarning)\n",
    "\n",
    "import random\n",
    "\n",
    "from datetime import datetime, time\n",
    "from pathlib import Path\n",
    "from time import sleep\n",
    "\n",
    "\n",
    "from selenium import webdriver\n",
    "from selenium.webdriver.common.by import By\n",
    "from selenium.webdriver.support.ui import WebDriverWait\n",
    "from selenium.webdriver.support import expected_conditions as EC\n",
    "from selenium.webdriver.common.keys import Keys\n",
    "from selenium.common.exceptions import NoSuchElementException\n",
    "from selenium.webdriver.common.action_chains import ActionChains\n",
    "from selenium.webdriver.firefox.options import Options\n",
    "from selenium.webdriver.firefox.service import Service\n",
    "from selenium.webdriver.common.desired_capabilities import DesiredCapabilities\n",
    "\n",
    "\n",
    "class ShoopDaWhoop:\n",
    "  def __init__(self):\n",
    "    self.profile = self.get_profile()\n",
    "    self.driver  = self.create_driver()\n",
    "\n",
    "  # Get the user's Firefox profile.\n",
    "  def get_profile(self):\n",
    "    mozille_home = Path.home() / \".mozilla/firefox\"\n",
    "    user_profile = None\n",
    "    if not mozille_home.exists(): exit()\n",
    "    _profiles = [d for d in mozille_home.iterdir() if d.is_dir() and '.default' in d.name]\n",
    "    for profile in _profiles:\n",
    "      if (profile / \"settings\").exists():\n",
    "        user_profile = profile\n",
    "        break\n",
    "    print(f\"Using profile: {user_profile}\")\n",
    "    return user_profile\n",
    "\n",
    "  # Create the webdriver.\n",
    "  def create_driver(self):\n",
    "    options = Options()\n",
    "    options.page_load_strategy = 'normal'\n",
    "\n",
    "    profile = webdriver.FirefoxProfile(self.profile)\n",
    "    profile.set_preference(\"dom.webdriver.enabled\", False)\n",
    "    profile.set_preference('useAutomationExtension', False)\n",
    "    profile.update_preferences()\n",
    "    desired = DesiredCapabilities.FIREFOX\n",
    "    driver = webdriver.Firefox(\n",
    "      options = options,\n",
    "      firefox_profile=profile,\n",
    "      desired_capabilities=desired\n",
    "    )\n",
    "    return driver\n",
    "\n",
    "  # Load the video URL and leave a comment!\n",
    "  def firin_mah_lazer(self, url):\n",
    "    driver = self.driver\n",
    "    print(f\"Firing {url}\")\n",
    "    driver.get(url)\n",
    "    driver.implicitly_wait(1)\n",
    "    # Scroll down a bit\n",
    "    driver.execute_script(\"window.scrollTo(0, 1000);\")\n",
    "    # ... a bit more.\n",
    "    html_element = WebDriverWait(driver=driver, timeout=9).until(\n",
    "      EC.presence_of_element_located((By.ID, \"meta\"))\n",
    "    )\n",
    "    _action = ActionChains(driver)\n",
    "    _meta = driver.find_element(By.ID, \"meta\")\n",
    "    _action.click().send_keys(Keys.DOWN).send_keys(Keys.DOWN).perform()\n",
    "    sleep(1)\n",
    "    _action.click().send_keys(Keys.DOWN).send_keys(Keys.DOWN).perform()\n",
    "    # Find the Comment box\n",
    "    html_element = WebDriverWait(driver=driver, timeout=9).until(\n",
    "      EC.presence_of_element_located((By.CSS_SELECTOR, \"ytd-comment-simplebox-renderer\"))\n",
    "    )\n",
    "    _action = ActionChains(driver)\n",
    "\n",
    "    driver.find_element(By.ID, \"placeholder-area\").click()\n",
    "    driver.find_element(By.ID, \"contenteditable-root\").send_keys(\"First!\")\n",
    "\n",
    "    driver.find_element(By.ID, \"submit-button\").click()\n",
    "    print(\"Fired!\")\n",
    "  \n",
    "  def open_new_window(self, url):\n",
    "    driver.execute_script(f\"window.open('{url}')\")\n",
    "    driver.switch_to.window(driver.window_handles[-1])\n",
    "\n",
    "  # Close all windows related to driver instance.\n",
    "  def exit(self):\n",
    "    return self.driver.quit()\n",
    "\n",
    "\n",
    "Cannon = ShoopDaWhoop()"
   ]
  },
  {
   "cell_type": "markdown",
   "metadata": {},
   "source": [
    "# Step 2 - Wait\n",
    "Wait until 1545 August 4 2022 before starting."
   ]
  },
  {
   "cell_type": "code",
   "execution_count": null,
   "metadata": {},
   "outputs": [],
   "source": [
    "from datetime import datetime, time\n",
    "from time import sleep\n",
    "\n",
    "\n",
    "target_time = datetime(2022, 8, 4, 15, 45, 0)\n",
    "\n",
    "while (target_time > datetime.now()):\n",
    "  print(f\"Starting in {target_time - datetime.now()}\")\n",
    "  sleep(1)"
   ]
  },
  {
   "cell_type": "markdown",
   "metadata": {},
   "source": [
    "# Step 3 - Scrape\n",
    "Scrap Mr. Beast's Youtube profile, looking for newly posted videos."
   ]
  },
  {
   "cell_type": "code",
   "execution_count": 178,
   "metadata": {},
   "outputs": [],
   "source": [
    "import requests\n",
    "import re\n",
    "\n",
    "mrbeast_yt_profile = \"https://www.youtube.com/user/MrBeast6000\"\n",
    "mrbeast_yt_uploads = f\"{mrbeast_yt_profile}/videos\"\n",
    "\n",
    "mrbeast_last_upload   = \"tVWWp1PqDus\" #\"dZklZVaU4AI\"\n",
    "mrbeast_target_upload = None\n",
    "\n",
    "\n",
    "def get_mrbeast_last_upload():\n",
    "    r = requests.get(mrbeast_yt_uploads)\n",
    "    if r.status_code == 200:\n",
    "      html = r.text\n",
    "      return re.search('(?<=\"videoId\":\").*?(?=\")', html).group()\n",
    "    else:\n",
    "      return None\n",
    "\n",
    "\n",
    "while (mrbeast_target_upload := get_mrbeast_last_upload()) and \\\n",
    "       mrbeast_last_upload == mrbeast_target_upload:\n",
    "  print(f\"Waiting for new uploads...\")\n",
    "  sleep(1)\n"
   ]
  },
  {
   "cell_type": "markdown",
   "metadata": {},
   "source": [
    "# Step 4 - Comment\n",
    "Launch a headless browser and comment on the video."
   ]
  },
  {
   "cell_type": "code",
   "execution_count": 179,
   "metadata": {},
   "outputs": [
    {
     "name": "stdout",
     "output_type": "stream",
     "text": [
      "Firing https://www.youtube.com/watch?v=dZklZVaU4AI\n",
      "Fired!\n"
     ]
    }
   ],
   "source": [
    "Cannon.firin_mah_lazer(f\"https://www.youtube.com/watch?v={mrbeast_target_upload}\")"
   ]
  },
  {
   "cell_type": "code",
   "execution_count": null,
   "metadata": {},
   "outputs": [],
   "source": []
  }
 ],
 "metadata": {
  "kernelspec": {
   "display_name": "Python 3.8.10 64-bit",
   "language": "python",
   "name": "python3"
  },
  "language_info": {
   "codemirror_mode": {
    "name": "ipython",
    "version": 3
   },
   "file_extension": ".py",
   "mimetype": "text/x-python",
   "name": "python",
   "nbconvert_exporter": "python",
   "pygments_lexer": "ipython3",
   "version": "3.8.10"
  },
  "orig_nbformat": 4,
  "vscode": {
   "interpreter": {
    "hash": "916dbcbb3f70747c44a77c7bcd40155683ae19c65e1c03b4aa3499c5328201f1"
   }
  }
 },
 "nbformat": 4,
 "nbformat_minor": 2
}
